{
  "cells": [
    {
      "cell_type": "markdown",
      "metadata": {},
      "source": [
        "Instalar los paquetes necesarios, ejecutar solo al principio."
      ]
    },
    {
      "cell_type": "code",
      "execution_count": 3,
      "metadata": {},
      "outputs": [
        {
          "name": "stdout",
          "output_type": "stream",
          "text": [
            "Requirement already satisfied: pandas in c:\\users\\intekmedical\\appdata\\local\\programs\\python\\python313\\lib\\site-packages (2.2.3)\n",
            "Requirement already satisfied: numpy in c:\\users\\intekmedical\\appdata\\local\\programs\\python\\python313\\lib\\site-packages (2.2.5)\n",
            "Requirement already satisfied: pyarrow in c:\\users\\intekmedical\\appdata\\local\\programs\\python\\python313\\lib\\site-packages (20.0.0)\n",
            "Requirement already satisfied: matplotlib in c:\\users\\intekmedical\\appdata\\local\\programs\\python\\python313\\lib\\site-packages (3.10.1)\n",
            "Requirement already satisfied: seaborn in c:\\users\\intekmedical\\appdata\\local\\programs\\python\\python313\\lib\\site-packages (0.13.2)\n",
            "Requirement already satisfied: plotly in c:\\users\\intekmedical\\appdata\\local\\programs\\python\\python313\\lib\\site-packages (6.0.1)\n",
            "Requirement already satisfied: nbformat in c:\\users\\intekmedical\\appdata\\local\\programs\\python\\python313\\lib\\site-packages (5.10.4)\n",
            "Requirement already satisfied: python-dateutil>=2.8.2 in c:\\users\\intekmedical\\appdata\\roaming\\python\\python313\\site-packages (from pandas) (2.9.0.post0)\n",
            "Requirement already satisfied: pytz>=2020.1 in c:\\users\\intekmedical\\appdata\\local\\programs\\python\\python313\\lib\\site-packages (from pandas) (2025.2)\n",
            "Requirement already satisfied: tzdata>=2022.7 in c:\\users\\intekmedical\\appdata\\local\\programs\\python\\python313\\lib\\site-packages (from pandas) (2025.2)\n",
            "Requirement already satisfied: contourpy>=1.0.1 in c:\\users\\intekmedical\\appdata\\local\\programs\\python\\python313\\lib\\site-packages (from matplotlib) (1.3.2)\n",
            "Requirement already satisfied: cycler>=0.10 in c:\\users\\intekmedical\\appdata\\local\\programs\\python\\python313\\lib\\site-packages (from matplotlib) (0.12.1)\n",
            "Requirement already satisfied: fonttools>=4.22.0 in c:\\users\\intekmedical\\appdata\\local\\programs\\python\\python313\\lib\\site-packages (from matplotlib) (4.57.0)\n",
            "Requirement already satisfied: kiwisolver>=1.3.1 in c:\\users\\intekmedical\\appdata\\local\\programs\\python\\python313\\lib\\site-packages (from matplotlib) (1.4.8)\n",
            "Requirement already satisfied: packaging>=20.0 in c:\\users\\intekmedical\\appdata\\roaming\\python\\python313\\site-packages (from matplotlib) (25.0)\n",
            "Requirement already satisfied: pillow>=8 in c:\\users\\intekmedical\\appdata\\local\\programs\\python\\python313\\lib\\site-packages (from matplotlib) (11.2.1)\n",
            "Requirement already satisfied: pyparsing>=2.3.1 in c:\\users\\intekmedical\\appdata\\local\\programs\\python\\python313\\lib\\site-packages (from matplotlib) (3.2.3)\n",
            "Requirement already satisfied: narwhals>=1.15.1 in c:\\users\\intekmedical\\appdata\\local\\programs\\python\\python313\\lib\\site-packages (from plotly) (1.37.1)\n",
            "Requirement already satisfied: fastjsonschema>=2.15 in c:\\users\\intekmedical\\appdata\\local\\programs\\python\\python313\\lib\\site-packages (from nbformat) (2.21.1)\n",
            "Requirement already satisfied: jsonschema>=2.6 in c:\\users\\intekmedical\\appdata\\local\\programs\\python\\python313\\lib\\site-packages (from nbformat) (4.23.0)\n",
            "Requirement already satisfied: jupyter-core!=5.0.*,>=4.12 in c:\\users\\intekmedical\\appdata\\roaming\\python\\python313\\site-packages (from nbformat) (5.7.2)\n",
            "Requirement already satisfied: traitlets>=5.1 in c:\\users\\intekmedical\\appdata\\roaming\\python\\python313\\site-packages (from nbformat) (5.14.3)\n",
            "Requirement already satisfied: attrs>=22.2.0 in c:\\users\\intekmedical\\appdata\\local\\programs\\python\\python313\\lib\\site-packages (from jsonschema>=2.6->nbformat) (25.3.0)\n",
            "Requirement already satisfied: jsonschema-specifications>=2023.03.6 in c:\\users\\intekmedical\\appdata\\local\\programs\\python\\python313\\lib\\site-packages (from jsonschema>=2.6->nbformat) (2025.4.1)\n",
            "Requirement already satisfied: referencing>=0.28.4 in c:\\users\\intekmedical\\appdata\\local\\programs\\python\\python313\\lib\\site-packages (from jsonschema>=2.6->nbformat) (0.36.2)\n",
            "Requirement already satisfied: rpds-py>=0.7.1 in c:\\users\\intekmedical\\appdata\\local\\programs\\python\\python313\\lib\\site-packages (from jsonschema>=2.6->nbformat) (0.24.0)\n",
            "Requirement already satisfied: platformdirs>=2.5 in c:\\users\\intekmedical\\appdata\\roaming\\python\\python313\\site-packages (from jupyter-core!=5.0.*,>=4.12->nbformat) (4.3.7)\n",
            "Requirement already satisfied: pywin32>=300 in c:\\users\\intekmedical\\appdata\\roaming\\python\\python313\\site-packages (from jupyter-core!=5.0.*,>=4.12->nbformat) (310)\n",
            "Requirement already satisfied: six>=1.5 in c:\\users\\intekmedical\\appdata\\roaming\\python\\python313\\site-packages (from python-dateutil>=2.8.2->pandas) (1.17.0)\n",
            "Note: you may need to restart the kernel to use updated packages.\n"
          ]
        },
        {
          "name": "stderr",
          "output_type": "stream",
          "text": [
            "\n",
            "[notice] A new release of pip is available: 24.3.1 -> 25.1\n",
            "[notice] To update, run: python.exe -m pip install --upgrade pip\n"
          ]
        }
      ],
      "source": [
        "# 📦 Instalar paquetes necesarios\n",
        "%pip install pandas numpy pyarrow matplotlib seaborn plotly nbformat"
      ]
    },
    {
      "cell_type": "code",
      "execution_count": 4,
      "metadata": {
        "id": "8GPDQVVaGW7A"
      },
      "outputs": [],
      "source": [
        "# 📦 Imports principales para análisis de datos y visualización\n",
        "\n",
        "# Carga y manipulación de datos\n",
        "import pandas as pd       # type: ignore # Manipulación y análisis de datos tabulares\n",
        "import numpy as np        # type: ignore # Operaciones numéricas (opcional, pero útil)\n",
        "\n",
        "# Lectura de archivos Parquet\n",
        "import pyarrow.parquet as pq  # type: ignore # Backend recomendado para parquet (alternativa: fastparquet)\n",
        "\n",
        "# Visualización básica y exploratoria\n",
        "import matplotlib.pyplot as plt      # type: ignore # Visualizaciones estándar (histogramas, scatter, etc.)\n",
        "import seaborn as sns                # type: ignore # Visualización estadística avanzada (heatmaps, countplots)\n",
        "\n",
        "# Visualización avanzada \n",
        "import plotly.express as px         # type: ignore # Visualizaciones interactivas (incl. Sankey, mapas, etc.)\n",
        "import plotly.graph_objects as go # type: ignore # Gráficos más complejos y personalizados\n",
        "\n",
        "# Configuración general de visualizaciones\n",
        "plt.style.use('seaborn-v0_8')        # Estilo visual estándar\n",
        "# %matplotlib inline                   # Para visualizar directamente en el notebook\n"
      ]
    },
    {
      "cell_type": "markdown",
      "metadata": {
        "id": "9qUVDhbOJ4C-"
      },
      "source": [
        "Importación de los ficheros parquet"
      ]
    },
    {
      "cell_type": "code",
      "execution_count": 6,
      "metadata": {
        "id": "8tTdCSulJBxm"
      },
      "outputs": [],
      "source": [
        "# Fuente de datos directa\n",
        "# https://www.nyc.gov/site/tlc/about/tlc-trip-record-data.page\n",
        "\n",
        "# Ruta base de trip-data\n",
        "data_path = \"https://d37ci6vzurychx.cloudfront.net/trip-data/\"\n",
        "\n",
        "# Ficheros Parquet para febrero de 2025\n",
        "yellow_path_2025_02 = data_path + \"yellow_tripdata_2025-02.parquet\"\n",
        "green_path_2025_02 = data_path + \"green_tripdata_2025-02.parquet\"\n",
        "fhv_path_2025_02 = data_path + \"fhv_tripdata_2025-02.parquet\"\n",
        "fhvhv_path_2025_02 = data_path + \"fhvhv_tripdata_2025-02.parquet\"\n",
        "\n",
        "# Ficheros Parquet para diciembre de 2025\n",
        "yellow_path_2024_12 = data_path + \"yellow_tripdata_2024-12.parquet\"\n",
        "green_path_2024_12 = data_path + \"green_tripdata_2024-12.parquet\"\n",
        "fhv_path_2024_12 = data_path + \"fhv_tripdata_2024-12.parquet\"\n",
        "fhvhv_path_2024_12 = data_path + \"fhvhv_tripdata_2024-12.parquet\"\n",
        "\n"
      ]
    },
    {
      "cell_type": "markdown",
      "metadata": {
        "id": "nPHOdaGxPASe"
      },
      "source": [
        "Carga de los ficheros Parquet en Datasets de Febrero 2025"
      ]
    },
    {
      "cell_type": "code",
      "execution_count": 7,
      "metadata": {
        "id": "Ckr22p2sPDu9"
      },
      "outputs": [],
      "source": [
        "# Cargamos cada fichero Parquet de Febrero 2025\n",
        "yellow_df_2025_02 = pd.read_parquet(yellow_path_2025_02, engine=\"pyarrow\")\n",
        "green_df_2025_02 = pd.read_parquet(green_path_2025_02, engine=\"pyarrow\")\n",
        "fhv_df_2025_02 = pd.read_parquet(fhv_path_2025_02, engine=\"pyarrow\")\n",
        "fhvhv_df_2025_02 = pd.read_parquet(fhvhv_path_2025_02, engine=\"pyarrow\")\n"
      ]
    },
    {
      "cell_type": "markdown",
      "metadata": {},
      "source": [
        "Verificación de la carga de los datasets de Febrero 2025"
      ]
    },
    {
      "cell_type": "code",
      "execution_count": 8,
      "metadata": {},
      "outputs": [
        {
          "name": "stdout",
          "output_type": "stream",
          "text": [
            "Yellow Cabs February 2025: 3,577,543 filas, 20 columnas\n",
            "Green Cabs February 2025: 46,621 filas, 21 columnas\n",
            "FHV Cabs February 2025: 1,578,722 filas, 7 columnas\n",
            "FHVHV Cabs February 2025: 19,339,461 filas, 25 columnas\n"
          ]
        }
      ],
      "source": [
        "# Mostramos el número de filas y columnas de cada dataset de Febrero 2025\n",
        "for name, df in zip([\"Yellow\", \"Green\", \"FHV\", \"FHVHV\"],\n",
        "                    [yellow_df_2025_02, green_df_2025_02, fhv_df_2025_02, fhvhv_df_2025_02]):\n",
        "    print(f\"{name} Cabs February 2025: {df.shape[0]:,} filas, {df.shape[1]} columnas\")"
      ]
    },
    {
      "cell_type": "markdown",
      "metadata": {},
      "source": [
        "Carga de los ficheros Parquet en Datasets de Diciembre 2024"
      ]
    },
    {
      "cell_type": "code",
      "execution_count": 9,
      "metadata": {
        "id": "TWtRK12AP2pG"
      },
      "outputs": [],
      "source": [
        "# Cargamos cada fichero Parquet de Diciembre 2024\n",
        "yellow_df_2024_12 = pd.read_parquet(yellow_path_2024_12, engine=\"pyarrow\")\n",
        "green_df_2024_12 = pd.read_parquet(green_path_2024_12, engine=\"pyarrow\")\n",
        "fhv_df_2024_12 = pd.read_parquet(fhv_path_2024_12, engine=\"pyarrow\")\n",
        "fhvhv_df_2024_12 = pd.read_parquet(fhvhv_path_2024_12, engine=\"pyarrow\")"
      ]
    },
    {
      "cell_type": "markdown",
      "metadata": {},
      "source": [
        "Verificación de la carga de los datasets de Diciembre 2025"
      ]
    },
    {
      "cell_type": "code",
      "execution_count": 10,
      "metadata": {
        "id": "e_nGmi4eRhvF"
      },
      "outputs": [
        {
          "name": "stdout",
          "output_type": "stream",
          "text": [
            "Yellow Cabs December 2024: 3,668,371 filas, 19 columnas\n",
            "Green Cabs December 2024: 53,994 filas, 20 columnas\n",
            "FHV Cabs December 2024: 1,913,200 filas, 7 columnas\n",
            "FHVHV Cabs December 2024: 21,068,851 filas, 24 columnas\n"
          ]
        }
      ],
      "source": [
        "# Mostramos el número de filas y columnas de cada dataset de Diciembre 2024\n",
        "for name, df in zip([\"Yellow\", \"Green\", \"FHV\", \"FHVHV\"],\n",
        "                    [yellow_df_2024_12, green_df_2024_12, fhv_df_2024_12, fhvhv_df_2024_12]):\n",
        "    print(f\"{name} Cabs December 2024: {df.shape[0]:,} filas, {df.shape[1]} columnas\")"
      ]
    },
    {
      "cell_type": "code",
      "execution_count": 17,
      "metadata": {},
      "outputs": [
        {
          "data": {
            "text/html": [
              "<div>\n",
              "<style scoped>\n",
              "    .dataframe tbody tr th:only-of-type {\n",
              "        vertical-align: middle;\n",
              "    }\n",
              "\n",
              "    .dataframe tbody tr th {\n",
              "        vertical-align: top;\n",
              "    }\n",
              "\n",
              "    .dataframe thead th {\n",
              "        text-align: right;\n",
              "    }\n",
              "</style>\n",
              "<table border=\"1\" class=\"dataframe\">\n",
              "  <thead>\n",
              "    <tr style=\"text-align: right;\">\n",
              "      <th></th>\n",
              "      <th>Columna</th>\n",
              "      <th>Tipo de dato</th>\n",
              "    </tr>\n",
              "  </thead>\n",
              "  <tbody>\n",
              "    <tr>\n",
              "      <th>VendorID</th>\n",
              "      <td>VendorID</td>\n",
              "      <td>int32</td>\n",
              "    </tr>\n",
              "    <tr>\n",
              "      <th>tpep_pickup_datetime</th>\n",
              "      <td>tpep_pickup_datetime</td>\n",
              "      <td>datetime64[us]</td>\n",
              "    </tr>\n",
              "    <tr>\n",
              "      <th>tpep_dropoff_datetime</th>\n",
              "      <td>tpep_dropoff_datetime</td>\n",
              "      <td>datetime64[us]</td>\n",
              "    </tr>\n",
              "    <tr>\n",
              "      <th>passenger_count</th>\n",
              "      <td>passenger_count</td>\n",
              "      <td>float64</td>\n",
              "    </tr>\n",
              "    <tr>\n",
              "      <th>trip_distance</th>\n",
              "      <td>trip_distance</td>\n",
              "      <td>float64</td>\n",
              "    </tr>\n",
              "    <tr>\n",
              "      <th>RatecodeID</th>\n",
              "      <td>RatecodeID</td>\n",
              "      <td>float64</td>\n",
              "    </tr>\n",
              "    <tr>\n",
              "      <th>store_and_fwd_flag</th>\n",
              "      <td>store_and_fwd_flag</td>\n",
              "      <td>object</td>\n",
              "    </tr>\n",
              "    <tr>\n",
              "      <th>PULocationID</th>\n",
              "      <td>PULocationID</td>\n",
              "      <td>int32</td>\n",
              "    </tr>\n",
              "    <tr>\n",
              "      <th>DOLocationID</th>\n",
              "      <td>DOLocationID</td>\n",
              "      <td>int32</td>\n",
              "    </tr>\n",
              "    <tr>\n",
              "      <th>payment_type</th>\n",
              "      <td>payment_type</td>\n",
              "      <td>int64</td>\n",
              "    </tr>\n",
              "    <tr>\n",
              "      <th>fare_amount</th>\n",
              "      <td>fare_amount</td>\n",
              "      <td>float64</td>\n",
              "    </tr>\n",
              "    <tr>\n",
              "      <th>extra</th>\n",
              "      <td>extra</td>\n",
              "      <td>float64</td>\n",
              "    </tr>\n",
              "    <tr>\n",
              "      <th>mta_tax</th>\n",
              "      <td>mta_tax</td>\n",
              "      <td>float64</td>\n",
              "    </tr>\n",
              "    <tr>\n",
              "      <th>tip_amount</th>\n",
              "      <td>tip_amount</td>\n",
              "      <td>float64</td>\n",
              "    </tr>\n",
              "    <tr>\n",
              "      <th>tolls_amount</th>\n",
              "      <td>tolls_amount</td>\n",
              "      <td>float64</td>\n",
              "    </tr>\n",
              "    <tr>\n",
              "      <th>improvement_surcharge</th>\n",
              "      <td>improvement_surcharge</td>\n",
              "      <td>float64</td>\n",
              "    </tr>\n",
              "    <tr>\n",
              "      <th>total_amount</th>\n",
              "      <td>total_amount</td>\n",
              "      <td>float64</td>\n",
              "    </tr>\n",
              "    <tr>\n",
              "      <th>congestion_surcharge</th>\n",
              "      <td>congestion_surcharge</td>\n",
              "      <td>float64</td>\n",
              "    </tr>\n",
              "    <tr>\n",
              "      <th>Airport_fee</th>\n",
              "      <td>Airport_fee</td>\n",
              "      <td>float64</td>\n",
              "    </tr>\n",
              "    <tr>\n",
              "      <th>cbd_congestion_fee</th>\n",
              "      <td>cbd_congestion_fee</td>\n",
              "      <td>float64</td>\n",
              "    </tr>\n",
              "  </tbody>\n",
              "</table>\n",
              "</div>"
            ],
            "text/plain": [
              "                                     Columna    Tipo de dato\n",
              "VendorID                            VendorID           int32\n",
              "tpep_pickup_datetime    tpep_pickup_datetime  datetime64[us]\n",
              "tpep_dropoff_datetime  tpep_dropoff_datetime  datetime64[us]\n",
              "passenger_count              passenger_count         float64\n",
              "trip_distance                  trip_distance         float64\n",
              "RatecodeID                        RatecodeID         float64\n",
              "store_and_fwd_flag        store_and_fwd_flag          object\n",
              "PULocationID                    PULocationID           int32\n",
              "DOLocationID                    DOLocationID           int32\n",
              "payment_type                    payment_type           int64\n",
              "fare_amount                      fare_amount         float64\n",
              "extra                                  extra         float64\n",
              "mta_tax                              mta_tax         float64\n",
              "tip_amount                        tip_amount         float64\n",
              "tolls_amount                    tolls_amount         float64\n",
              "improvement_surcharge  improvement_surcharge         float64\n",
              "total_amount                    total_amount         float64\n",
              "congestion_surcharge    congestion_surcharge         float64\n",
              "Airport_fee                      Airport_fee         float64\n",
              "cbd_congestion_fee        cbd_congestion_fee         float64"
            ]
          },
          "execution_count": 17,
          "metadata": {},
          "output_type": "execute_result"
        }
      ],
      "source": [
        "# Mostrar lista de columnas y sus tipos del dataset Yellow Cabs\n",
        "yellow_columns_info = pd.DataFrame({\n",
        "    'Columna': yellow_df_2025_02.columns,\n",
        "    'Tipo de dato': yellow_df_2025_02.dtypes.astype(str)\n",
        "})\n",
        "\n",
        "# Mostrar la tabla\n",
        "yellow_columns_info\n"
      ]
    },
    {
      "cell_type": "markdown",
      "metadata": {},
      "source": [
        "¿Existen valores aparentemente incorrectos?  Yellow Cabs Febrero 2025"
      ]
    },
    {
      "cell_type": "code",
      "execution_count": 11,
      "metadata": {},
      "outputs": [
        {
          "data": {
            "text/html": [
              "<div>\n",
              "<style scoped>\n",
              "    .dataframe tbody tr th:only-of-type {\n",
              "        vertical-align: middle;\n",
              "    }\n",
              "\n",
              "    .dataframe tbody tr th {\n",
              "        vertical-align: top;\n",
              "    }\n",
              "\n",
              "    .dataframe thead th {\n",
              "        text-align: right;\n",
              "    }\n",
              "</style>\n",
              "<table border=\"1\" class=\"dataframe\">\n",
              "  <thead>\n",
              "    <tr style=\"text-align: right;\">\n",
              "      <th></th>\n",
              "      <th>Nº de registros</th>\n",
              "    </tr>\n",
              "  </thead>\n",
              "  <tbody>\n",
              "    <tr>\n",
              "      <th>Pasajeros = 0 o negativos</th>\n",
              "      <td>21751</td>\n",
              "    </tr>\n",
              "    <tr>\n",
              "      <th>Distancia = 0 o negativa</th>\n",
              "      <td>99771</td>\n",
              "    </tr>\n",
              "    <tr>\n",
              "      <th>Dropoff antes de Pickup</th>\n",
              "      <td>93</td>\n",
              "    </tr>\n",
              "    <tr>\n",
              "      <th>Duración = 0 min</th>\n",
              "      <td>5071</td>\n",
              "    </tr>\n",
              "    <tr>\n",
              "      <th>Total = 0 o negativo</th>\n",
              "      <td>55621</td>\n",
              "    </tr>\n",
              "    <tr>\n",
              "      <th>PULocationID inválido</th>\n",
              "      <td>8635</td>\n",
              "    </tr>\n",
              "    <tr>\n",
              "      <th>DOLocationID inválido</th>\n",
              "      <td>21285</td>\n",
              "    </tr>\n",
              "  </tbody>\n",
              "</table>\n",
              "</div>"
            ],
            "text/plain": [
              "                           Nº de registros\n",
              "Pasajeros = 0 o negativos            21751\n",
              "Distancia = 0 o negativa             99771\n",
              "Dropoff antes de Pickup                 93\n",
              "Duración = 0 min                      5071\n",
              "Total = 0 o negativo                 55621\n",
              "PULocationID inválido                 8635\n",
              "DOLocationID inválido                21285"
            ]
          },
          "execution_count": 11,
          "metadata": {},
          "output_type": "execute_result"
        }
      ],
      "source": [
        "# 🔍 Análisis de calidad de datos en Yellow Cabs (Febrero 2025)\n",
        "\n",
        "def analizar_valores_invalidos(df):\n",
        "    resultados = {}\n",
        "\n",
        "    # 1. Pasajeros: 0 o valores negativos\n",
        "    resultados['Pasajeros = 0 o negativos'] = df[df['passenger_count'] <= 0].shape[0]\n",
        "\n",
        "    # 2. Distancias negativas o cero\n",
        "    resultados['Distancia = 0 o negativa'] = df[df['trip_distance'] <= 0].shape[0]\n",
        "\n",
        "    # 3. Duración del viaje (dropoff < pickup)\n",
        "    resultados['Dropoff antes de Pickup'] = df[df['tpep_dropoff_datetime'] < df['tpep_pickup_datetime']].shape[0]\n",
        "\n",
        "    # 4. Duración = 0 (pickup == dropoff)\n",
        "    resultados['Duración = 0 min'] = df[df['tpep_pickup_datetime'] == df['tpep_dropoff_datetime']].shape[0]\n",
        "\n",
        "    # 5. Total_amount negativo o cero\n",
        "    if 'total_amount' in df.columns:\n",
        "        resultados['Total = 0 o negativo'] = df[df['total_amount'] <= 0].shape[0]\n",
        "\n",
        "    # 6. Ubicaciones nulas o fuera de rango (ID de zona entre 1 y 263 según TLC)\n",
        "    resultados['PULocationID inválido'] = df[~df['PULocationID'].between(1, 263)].shape[0]\n",
        "    resultados['DOLocationID inválido'] = df[~df['DOLocationID'].between(1, 263)].shape[0]\n",
        "\n",
        "    return pd.DataFrame.from_dict(resultados, orient='index', columns=['Nº de registros'])\n",
        "\n",
        "# Ejecutamos el análisis en el dataset de Yellow Cabs\n",
        "analisis_yellow = analizar_valores_invalidos(yellow_df_2025_02)\n",
        "analisis_yellow\n"
      ]
    },
    {
      "cell_type": "markdown",
      "metadata": {},
      "source": [
        "Gráfico combinado para representar de forma clara y visual los outliers en las variables más propensas a errores"
      ]
    },
    {
      "cell_type": "code",
      "execution_count": 23,
      "metadata": {},
      "outputs": [
        {
          "data": {
            "image/png": "[encoded data removed]",
            "text/plain": [
              "<Figure size 1400x1000 with 4 Axes>"
            ]
          },
          "metadata": {},
          "output_type": "display_data"
        }
      ],
      "source": [
        "# Configuración general del estilo\n",
        "sns.set(style=\"whitegrid\")\n",
        "\n",
        "# Figura con dos subplots\n",
        "fig, axs = plt.subplots(2, 2, figsize=(14, 10))\n",
        "\n",
        "# 1. Histograma de distancias (máx. 20 millas para enfocar la visualización)\n",
        "sns.histplot(yellow_df_2025_02[yellow_df_2025_02[\"trip_distance\"] < 20][\"trip_distance\"], \n",
        "             bins=50, kde=False, ax=axs[0, 0], color='steelblue')\n",
        "axs[0, 0].set_title(\"Distribución de distancias (hasta 20 millas)\")\n",
        "axs[0, 0].set_xlabel(\"Distancia (millas)\")\n",
        "\n",
        "# 2. Boxplot de distancias\n",
        "sns.boxplot(x=yellow_df_2025_02[yellow_df_2025_02[\"trip_distance\"] < 20][\"trip_distance\"], \n",
        "            ax=axs[0, 1], color='skyblue')\n",
        "axs[0, 1].set_title(\"Boxplot de distancias (hasta 20 millas)\")\n",
        "axs[0, 1].set_xlabel(\"Distancia (millas)\")\n",
        "\n",
        "# 3. Histograma de duración del trayecto (en minutos)\n",
        "yellow_df_2025_02[\"trip_duration_min\"] = (yellow_df_2025_02[\"tpep_dropoff_datetime\"] - yellow_df_2025_02[\"tpep_pickup_datetime\"]).dt.total_seconds() / 60\n",
        "sns.histplot(yellow_df_2025_02[yellow_df_2025_02[\"trip_duration_min\"] < 60][\"trip_duration_min\"], \n",
        "             bins=50, kde=False, ax=axs[1, 0], color='darkorange')\n",
        "axs[1, 0].set_title(\"Distribución de duración del viaje (< 60 min)\")\n",
        "axs[1, 0].set_xlabel(\"Duración (minutos)\")\n",
        "\n",
        "# 4. Boxplot de duración\n",
        "sns.boxplot(x=yellow_df_2025_02[yellow_df_2025_02[\"trip_duration_min\"] < 60][\"trip_duration_min\"], \n",
        "            ax=axs[1, 1], color='orange')\n",
        "axs[1, 1].set_title(\"Boxplot de duración del viaje (< 60 min)\")\n",
        "axs[1, 1].set_xlabel(\"Duración (minutos)\")\n",
        "\n",
        "# Ajustar espacio\n",
        "plt.tight_layout()\n",
        "plt.show()\n"
      ]
    },
    {
      "cell_type": "markdown",
      "metadata": {},
      "source": [
        "Visualización de trayectos entre las 20 zonas más activas"
      ]
    },
    {
      "cell_type": "code",
      "execution_count": 2,
      "metadata": {},
      "outputs": [
        {
          "ename": "NameError",
          "evalue": "name 'yellow_df_2025_02' is not defined",
          "output_type": "error",
          "traceback": [
            "\u001b[31m---------------------------------------------------------------------------\u001b[39m",
            "\u001b[31mNameError\u001b[39m                                 Traceback (most recent call last)",
            "\u001b[36mCell\u001b[39m\u001b[36m \u001b[39m\u001b[32mIn[2]\u001b[39m\u001b[32m, line 38\u001b[39m\n\u001b[32m     35\u001b[39m     plt.show()\n\u001b[32m     37\u001b[39m \u001b[38;5;66;03m# Generamos heatmaps para los datasets de Febrero 2025 y Diciembre 2024\u001b[39;00m\n\u001b[32m---> \u001b[39m\u001b[32m38\u001b[39m plot_top_zones_heatmap(\u001b[43myellow_df_2025_02\u001b[49m, \u001b[33m\"\u001b[39m\u001b[33mYellow Cabs\u001b[39m\u001b[33m\"\u001b[39m, \u001b[33m\"\u001b[39m\u001b[33mFebrero 2025\u001b[39m\u001b[33m\"\u001b[39m)\n\u001b[32m     39\u001b[39m plot_top_zones_heatmap(yellow_df_2024_12, \u001b[33m\"\u001b[39m\u001b[33mYellow Cabs\u001b[39m\u001b[33m\"\u001b[39m, \u001b[33m\"\u001b[39m\u001b[33mDiciembre 2024\u001b[39m\u001b[33m\"\u001b[39m)\n\u001b[32m     40\u001b[39m plot_top_zones_heatmap(green_df_2025_02, \u001b[33m\"\u001b[39m\u001b[33mGreen Cabs\u001b[39m\u001b[33m\"\u001b[39m, \u001b[33m\"\u001b[39m\u001b[33mFebrero 2025\u001b[39m\u001b[33m\"\u001b[39m)\n",
            "\u001b[31mNameError\u001b[39m: name 'yellow_df_2025_02' is not defined"
          ]
        }
      ],
      "source": [
        "def plot_top_zones_heatmap(df, nombre_dataset, mes_label, top_n=20):\n",
        "    \"\"\"\n",
        "    Genera un heatmap de trayectos entre las zonas más activas (recogida y destino).\n",
        "\n",
        "    Parámetros:\n",
        "    - df: DataFrame de viajes (con columnas PULocationID y DOLocationID)\n",
        "    - nombre_dataset: nombre del dataset (ej. 'Yellow Cabs')\n",
        "    - mes_label: etiqueta del mes (ej. 'Febrero 2025')\n",
        "    - top_n: número de zonas más activas a considerar\n",
        "    \"\"\"\n",
        "\n",
        "    # Agrupamos y contamos trayectos por combinación de zonas\n",
        "    zonas = df.groupby(['PULocationID', 'DOLocationID']).size().reset_index(name='count')\n",
        "\n",
        "    # Zonas más frecuentes en recogida y destino\n",
        "    top_pickup = zonas.groupby('PULocationID')['count'].sum().nlargest(top_n).index\n",
        "    top_dropoff = zonas.groupby('DOLocationID')['count'].sum().nlargest(top_n).index\n",
        "\n",
        "    # Filtramos combinaciones entre esas zonas\n",
        "    zonas_top = zonas[\n",
        "        zonas['PULocationID'].isin(top_pickup) &\n",
        "        zonas['DOLocationID'].isin(top_dropoff)\n",
        "    ]\n",
        "\n",
        "    # Creamos la matriz pivot para heatmap\n",
        "    pivot = zonas_top.pivot(index='DOLocationID', columns='PULocationID', values='count').fillna(0)\n",
        "\n",
        "    # Graficamos\n",
        "    plt.figure(figsize=(10, 8))\n",
        "    sns.heatmap(pivot, cmap=\"YlGnBu\", annot=True, fmt=\".0f\", cbar_kws={'label': 'Número de trayectos'})\n",
        "    plt.title(f'Trayectos entre zonas más activas - {nombre_dataset} ({mes_label})')\n",
        "    plt.xlabel('Zona de recogida (PULocationID)')\n",
        "    plt.ylabel('Zona de llegada (DOLocationID)')\n",
        "    plt.tight_layout()\n",
        "    plt.show()\n",
        "\n",
        "# Generamos heatmaps para los datasets de Febrero 2025 y Diciembre 2024\n",
        "plot_top_zones_heatmap(yellow_df_2025_02, \"Yellow Cabs\", \"Febrero 2025\")\n",
        "plot_top_zones_heatmap(yellow_df_2024_12, \"Yellow Cabs\", \"Diciembre 2024\")\n",
        "plot_top_zones_heatmap(green_df_2025_02, \"Green Cabs\", \"Febrero 2025\")\n",
        "plot_top_zones_heatmap(green_df_2024_12, \"Green Cabs\", \"Diciembre 2024\")\n",
        "\n"
      ]
    },
    {
      "cell_type": "markdown",
      "metadata": {},
      "source": [
        "Visualización de trayectos entre las 5 zonas más populares"
      ]
    },
    {
      "cell_type": "code",
      "execution_count": 13,
      "metadata": {},
      "outputs": [
        {
          "ename": "HTTPError",
          "evalue": "HTTP Error 404: Not Found",
          "output_type": "error",
          "traceback": [
            "\u001b[31m---------------------------------------------------------------------------\u001b[39m",
            "\u001b[31mHTTPError\u001b[39m                                 Traceback (most recent call last)",
            "\u001b[36mCell\u001b[39m\u001b[36m \u001b[39m\u001b[32mIn[13]\u001b[39m\u001b[32m, line 92\u001b[39m\n\u001b[32m     88\u001b[39m     fig.update_layout(title_text=\u001b[33mf\u001b[39m\u001b[33m\"\u001b[39m\u001b[33mTrayectos entre las 5 zonas más populares – \u001b[39m\u001b[38;5;132;01m{\u001b[39;00mnombre_dataset\u001b[38;5;132;01m}\u001b[39;00m\u001b[33m (\u001b[39m\u001b[38;5;132;01m{\u001b[39;00mmes_label\u001b[38;5;132;01m}\u001b[39;00m\u001b[33m)\u001b[39m\u001b[33m\"\u001b[39m,\n\u001b[32m     89\u001b[39m                       font_size=\u001b[32m12\u001b[39m)\n\u001b[32m     90\u001b[39m     fig.show()\n\u001b[32m---> \u001b[39m\u001b[32m92\u001b[39m \u001b[43mplot_sankey_top5\u001b[49m\u001b[43m(\u001b[49m\u001b[43myellow_df_2025_02\u001b[49m\u001b[43m,\u001b[49m\u001b[43m \u001b[49m\u001b[33;43m\"\u001b[39;49m\u001b[33;43mYellow Cabs\u001b[39;49m\u001b[33;43m\"\u001b[39;49m\u001b[43m,\u001b[49m\u001b[43m \u001b[49m\u001b[33;43m\"\u001b[39;49m\u001b[33;43mFebrero 2025\u001b[39;49m\u001b[33;43m\"\u001b[39;49m\u001b[43m)\u001b[49m\n\u001b[32m     93\u001b[39m plot_sankey_top5(yellow_df_2024_12, \u001b[33m\"\u001b[39m\u001b[33mYellow Cabs\u001b[39m\u001b[33m\"\u001b[39m, \u001b[33m\"\u001b[39m\u001b[33mDiciembre 2024\u001b[39m\u001b[33m\"\u001b[39m)\n\u001b[32m     94\u001b[39m plot_sankey_top5(green_df_2025_02, \u001b[33m\"\u001b[39m\u001b[33mGreen Cabs\u001b[39m\u001b[33m\"\u001b[39m, \u001b[33m\"\u001b[39m\u001b[33mFebrero 2025\u001b[39m\u001b[33m\"\u001b[39m)\n",
            "\u001b[36mCell\u001b[39m\u001b[36m \u001b[39m\u001b[32mIn[13]\u001b[39m\u001b[32m, line 14\u001b[39m, in \u001b[36mplot_sankey_top5\u001b[39m\u001b[34m(df, nombre_dataset, mes_label)\u001b[39m\n\u001b[32m     12\u001b[39m \u001b[38;5;66;03m# Cargar nombres de zona\u001b[39;00m\n\u001b[32m     13\u001b[39m url_lookup = \u001b[33m\"\u001b[39m\u001b[33mhttps://www.nyc.gov/assets/tlc/downloads/pdf/taxi_zone_lookup.csv\u001b[39m\u001b[33m\"\u001b[39m\n\u001b[32m---> \u001b[39m\u001b[32m14\u001b[39m taxi_zones = \u001b[43mpd\u001b[49m\u001b[43m.\u001b[49m\u001b[43mread_csv\u001b[49m\u001b[43m(\u001b[49m\u001b[43murl_lookup\u001b[49m\u001b[43m)\u001b[49m\n\u001b[32m     15\u001b[39m zona_nombres = taxi_zones.set_index(\u001b[33m\"\u001b[39m\u001b[33mLocationID\u001b[39m\u001b[33m\"\u001b[39m)[\u001b[33m\"\u001b[39m\u001b[33mZone\u001b[39m\u001b[33m\"\u001b[39m].to_dict()\n\u001b[32m     17\u001b[39m \u001b[38;5;66;03m# Agrupar trayectos entre zonas\u001b[39;00m\n",
            "\u001b[36mFile \u001b[39m\u001b[32mc:\\Users\\Intekmedical\\AppData\\Local\\Programs\\Python\\Python313\\Lib\\site-packages\\pandas\\io\\parsers\\readers.py:1026\u001b[39m, in \u001b[36mread_csv\u001b[39m\u001b[34m(filepath_or_buffer, sep, delimiter, header, names, index_col, usecols, dtype, engine, converters, true_values, false_values, skipinitialspace, skiprows, skipfooter, nrows, na_values, keep_default_na, na_filter, verbose, skip_blank_lines, parse_dates, infer_datetime_format, keep_date_col, date_parser, date_format, dayfirst, cache_dates, iterator, chunksize, compression, thousands, decimal, lineterminator, quotechar, quoting, doublequote, escapechar, comment, encoding, encoding_errors, dialect, on_bad_lines, delim_whitespace, low_memory, memory_map, float_precision, storage_options, dtype_backend)\u001b[39m\n\u001b[32m   1013\u001b[39m kwds_defaults = _refine_defaults_read(\n\u001b[32m   1014\u001b[39m     dialect,\n\u001b[32m   1015\u001b[39m     delimiter,\n\u001b[32m   (...)\u001b[39m\u001b[32m   1022\u001b[39m     dtype_backend=dtype_backend,\n\u001b[32m   1023\u001b[39m )\n\u001b[32m   1024\u001b[39m kwds.update(kwds_defaults)\n\u001b[32m-> \u001b[39m\u001b[32m1026\u001b[39m \u001b[38;5;28;01mreturn\u001b[39;00m \u001b[43m_read\u001b[49m\u001b[43m(\u001b[49m\u001b[43mfilepath_or_buffer\u001b[49m\u001b[43m,\u001b[49m\u001b[43m \u001b[49m\u001b[43mkwds\u001b[49m\u001b[43m)\u001b[49m\n",
            "\u001b[36mFile \u001b[39m\u001b[32mc:\\Users\\Intekmedical\\AppData\\Local\\Programs\\Python\\Python313\\Lib\\site-packages\\pandas\\io\\parsers\\readers.py:620\u001b[39m, in \u001b[36m_read\u001b[39m\u001b[34m(filepath_or_buffer, kwds)\u001b[39m\n\u001b[32m    617\u001b[39m _validate_names(kwds.get(\u001b[33m\"\u001b[39m\u001b[33mnames\u001b[39m\u001b[33m\"\u001b[39m, \u001b[38;5;28;01mNone\u001b[39;00m))\n\u001b[32m    619\u001b[39m \u001b[38;5;66;03m# Create the parser.\u001b[39;00m\n\u001b[32m--> \u001b[39m\u001b[32m620\u001b[39m parser = \u001b[43mTextFileReader\u001b[49m\u001b[43m(\u001b[49m\u001b[43mfilepath_or_buffer\u001b[49m\u001b[43m,\u001b[49m\u001b[43m \u001b[49m\u001b[43m*\u001b[49m\u001b[43m*\u001b[49m\u001b[43mkwds\u001b[49m\u001b[43m)\u001b[49m\n\u001b[32m    622\u001b[39m \u001b[38;5;28;01mif\u001b[39;00m chunksize \u001b[38;5;129;01mor\u001b[39;00m iterator:\n\u001b[32m    623\u001b[39m     \u001b[38;5;28;01mreturn\u001b[39;00m parser\n",
            "\u001b[36mFile \u001b[39m\u001b[32mc:\\Users\\Intekmedical\\AppData\\Local\\Programs\\Python\\Python313\\Lib\\site-packages\\pandas\\io\\parsers\\readers.py:1620\u001b[39m, in \u001b[36mTextFileReader.__init__\u001b[39m\u001b[34m(self, f, engine, **kwds)\u001b[39m\n\u001b[32m   1617\u001b[39m     \u001b[38;5;28mself\u001b[39m.options[\u001b[33m\"\u001b[39m\u001b[33mhas_index_names\u001b[39m\u001b[33m\"\u001b[39m] = kwds[\u001b[33m\"\u001b[39m\u001b[33mhas_index_names\u001b[39m\u001b[33m\"\u001b[39m]\n\u001b[32m   1619\u001b[39m \u001b[38;5;28mself\u001b[39m.handles: IOHandles | \u001b[38;5;28;01mNone\u001b[39;00m = \u001b[38;5;28;01mNone\u001b[39;00m\n\u001b[32m-> \u001b[39m\u001b[32m1620\u001b[39m \u001b[38;5;28mself\u001b[39m._engine = \u001b[38;5;28;43mself\u001b[39;49m\u001b[43m.\u001b[49m\u001b[43m_make_engine\u001b[49m\u001b[43m(\u001b[49m\u001b[43mf\u001b[49m\u001b[43m,\u001b[49m\u001b[43m \u001b[49m\u001b[38;5;28;43mself\u001b[39;49m\u001b[43m.\u001b[49m\u001b[43mengine\u001b[49m\u001b[43m)\u001b[49m\n",
            "\u001b[36mFile \u001b[39m\u001b[32mc:\\Users\\Intekmedical\\AppData\\Local\\Programs\\Python\\Python313\\Lib\\site-packages\\pandas\\io\\parsers\\readers.py:1880\u001b[39m, in \u001b[36mTextFileReader._make_engine\u001b[39m\u001b[34m(self, f, engine)\u001b[39m\n\u001b[32m   1878\u001b[39m     \u001b[38;5;28;01mif\u001b[39;00m \u001b[33m\"\u001b[39m\u001b[33mb\u001b[39m\u001b[33m\"\u001b[39m \u001b[38;5;129;01mnot\u001b[39;00m \u001b[38;5;129;01min\u001b[39;00m mode:\n\u001b[32m   1879\u001b[39m         mode += \u001b[33m\"\u001b[39m\u001b[33mb\u001b[39m\u001b[33m\"\u001b[39m\n\u001b[32m-> \u001b[39m\u001b[32m1880\u001b[39m \u001b[38;5;28mself\u001b[39m.handles = \u001b[43mget_handle\u001b[49m\u001b[43m(\u001b[49m\n\u001b[32m   1881\u001b[39m \u001b[43m    \u001b[49m\u001b[43mf\u001b[49m\u001b[43m,\u001b[49m\n\u001b[32m   1882\u001b[39m \u001b[43m    \u001b[49m\u001b[43mmode\u001b[49m\u001b[43m,\u001b[49m\n\u001b[32m   1883\u001b[39m \u001b[43m    \u001b[49m\u001b[43mencoding\u001b[49m\u001b[43m=\u001b[49m\u001b[38;5;28;43mself\u001b[39;49m\u001b[43m.\u001b[49m\u001b[43moptions\u001b[49m\u001b[43m.\u001b[49m\u001b[43mget\u001b[49m\u001b[43m(\u001b[49m\u001b[33;43m\"\u001b[39;49m\u001b[33;43mencoding\u001b[39;49m\u001b[33;43m\"\u001b[39;49m\u001b[43m,\u001b[49m\u001b[43m \u001b[49m\u001b[38;5;28;43;01mNone\u001b[39;49;00m\u001b[43m)\u001b[49m\u001b[43m,\u001b[49m\n\u001b[32m   1884\u001b[39m \u001b[43m    \u001b[49m\u001b[43mcompression\u001b[49m\u001b[43m=\u001b[49m\u001b[38;5;28;43mself\u001b[39;49m\u001b[43m.\u001b[49m\u001b[43moptions\u001b[49m\u001b[43m.\u001b[49m\u001b[43mget\u001b[49m\u001b[43m(\u001b[49m\u001b[33;43m\"\u001b[39;49m\u001b[33;43mcompression\u001b[39;49m\u001b[33;43m\"\u001b[39;49m\u001b[43m,\u001b[49m\u001b[43m \u001b[49m\u001b[38;5;28;43;01mNone\u001b[39;49;00m\u001b[43m)\u001b[49m\u001b[43m,\u001b[49m\n\u001b[32m   1885\u001b[39m \u001b[43m    \u001b[49m\u001b[43mmemory_map\u001b[49m\u001b[43m=\u001b[49m\u001b[38;5;28;43mself\u001b[39;49m\u001b[43m.\u001b[49m\u001b[43moptions\u001b[49m\u001b[43m.\u001b[49m\u001b[43mget\u001b[49m\u001b[43m(\u001b[49m\u001b[33;43m\"\u001b[39;49m\u001b[33;43mmemory_map\u001b[39;49m\u001b[33;43m\"\u001b[39;49m\u001b[43m,\u001b[49m\u001b[43m \u001b[49m\u001b[38;5;28;43;01mFalse\u001b[39;49;00m\u001b[43m)\u001b[49m\u001b[43m,\u001b[49m\n\u001b[32m   1886\u001b[39m \u001b[43m    \u001b[49m\u001b[43mis_text\u001b[49m\u001b[43m=\u001b[49m\u001b[43mis_text\u001b[49m\u001b[43m,\u001b[49m\n\u001b[32m   1887\u001b[39m \u001b[43m    \u001b[49m\u001b[43merrors\u001b[49m\u001b[43m=\u001b[49m\u001b[38;5;28;43mself\u001b[39;49m\u001b[43m.\u001b[49m\u001b[43moptions\u001b[49m\u001b[43m.\u001b[49m\u001b[43mget\u001b[49m\u001b[43m(\u001b[49m\u001b[33;43m\"\u001b[39;49m\u001b[33;43mencoding_errors\u001b[39;49m\u001b[33;43m\"\u001b[39;49m\u001b[43m,\u001b[49m\u001b[43m \u001b[49m\u001b[33;43m\"\u001b[39;49m\u001b[33;43mstrict\u001b[39;49m\u001b[33;43m\"\u001b[39;49m\u001b[43m)\u001b[49m\u001b[43m,\u001b[49m\n\u001b[32m   1888\u001b[39m \u001b[43m    \u001b[49m\u001b[43mstorage_options\u001b[49m\u001b[43m=\u001b[49m\u001b[38;5;28;43mself\u001b[39;49m\u001b[43m.\u001b[49m\u001b[43moptions\u001b[49m\u001b[43m.\u001b[49m\u001b[43mget\u001b[49m\u001b[43m(\u001b[49m\u001b[33;43m\"\u001b[39;49m\u001b[33;43mstorage_options\u001b[39;49m\u001b[33;43m\"\u001b[39;49m\u001b[43m,\u001b[49m\u001b[43m \u001b[49m\u001b[38;5;28;43;01mNone\u001b[39;49;00m\u001b[43m)\u001b[49m\u001b[43m,\u001b[49m\n\u001b[32m   1889\u001b[39m \u001b[43m\u001b[49m\u001b[43m)\u001b[49m\n\u001b[32m   1890\u001b[39m \u001b[38;5;28;01massert\u001b[39;00m \u001b[38;5;28mself\u001b[39m.handles \u001b[38;5;129;01mis\u001b[39;00m \u001b[38;5;129;01mnot\u001b[39;00m \u001b[38;5;28;01mNone\u001b[39;00m\n\u001b[32m   1891\u001b[39m f = \u001b[38;5;28mself\u001b[39m.handles.handle\n",
            "\u001b[36mFile \u001b[39m\u001b[32mc:\\Users\\Intekmedical\\AppData\\Local\\Programs\\Python\\Python313\\Lib\\site-packages\\pandas\\io\\common.py:728\u001b[39m, in \u001b[36mget_handle\u001b[39m\u001b[34m(path_or_buf, mode, encoding, compression, memory_map, is_text, errors, storage_options)\u001b[39m\n\u001b[32m    725\u001b[39m     codecs.lookup_error(errors)\n\u001b[32m    727\u001b[39m \u001b[38;5;66;03m# open URLs\u001b[39;00m\n\u001b[32m--> \u001b[39m\u001b[32m728\u001b[39m ioargs = \u001b[43m_get_filepath_or_buffer\u001b[49m\u001b[43m(\u001b[49m\n\u001b[32m    729\u001b[39m \u001b[43m    \u001b[49m\u001b[43mpath_or_buf\u001b[49m\u001b[43m,\u001b[49m\n\u001b[32m    730\u001b[39m \u001b[43m    \u001b[49m\u001b[43mencoding\u001b[49m\u001b[43m=\u001b[49m\u001b[43mencoding\u001b[49m\u001b[43m,\u001b[49m\n\u001b[32m    731\u001b[39m \u001b[43m    \u001b[49m\u001b[43mcompression\u001b[49m\u001b[43m=\u001b[49m\u001b[43mcompression\u001b[49m\u001b[43m,\u001b[49m\n\u001b[32m    732\u001b[39m \u001b[43m    \u001b[49m\u001b[43mmode\u001b[49m\u001b[43m=\u001b[49m\u001b[43mmode\u001b[49m\u001b[43m,\u001b[49m\n\u001b[32m    733\u001b[39m \u001b[43m    \u001b[49m\u001b[43mstorage_options\u001b[49m\u001b[43m=\u001b[49m\u001b[43mstorage_options\u001b[49m\u001b[43m,\u001b[49m\n\u001b[32m    734\u001b[39m \u001b[43m\u001b[49m\u001b[43m)\u001b[49m\n\u001b[32m    736\u001b[39m handle = ioargs.filepath_or_buffer\n\u001b[32m    737\u001b[39m handles: \u001b[38;5;28mlist\u001b[39m[BaseBuffer]\n",
            "\u001b[36mFile \u001b[39m\u001b[32mc:\\Users\\Intekmedical\\AppData\\Local\\Programs\\Python\\Python313\\Lib\\site-packages\\pandas\\io\\common.py:384\u001b[39m, in \u001b[36m_get_filepath_or_buffer\u001b[39m\u001b[34m(filepath_or_buffer, encoding, compression, mode, storage_options)\u001b[39m\n\u001b[32m    382\u001b[39m \u001b[38;5;66;03m# assuming storage_options is to be interpreted as headers\u001b[39;00m\n\u001b[32m    383\u001b[39m req_info = urllib.request.Request(filepath_or_buffer, headers=storage_options)\n\u001b[32m--> \u001b[39m\u001b[32m384\u001b[39m \u001b[38;5;28;01mwith\u001b[39;00m \u001b[43murlopen\u001b[49m\u001b[43m(\u001b[49m\u001b[43mreq_info\u001b[49m\u001b[43m)\u001b[49m \u001b[38;5;28;01mas\u001b[39;00m req:\n\u001b[32m    385\u001b[39m     content_encoding = req.headers.get(\u001b[33m\"\u001b[39m\u001b[33mContent-Encoding\u001b[39m\u001b[33m\"\u001b[39m, \u001b[38;5;28;01mNone\u001b[39;00m)\n\u001b[32m    386\u001b[39m     \u001b[38;5;28;01mif\u001b[39;00m content_encoding == \u001b[33m\"\u001b[39m\u001b[33mgzip\u001b[39m\u001b[33m\"\u001b[39m:\n\u001b[32m    387\u001b[39m         \u001b[38;5;66;03m# Override compression based on Content-Encoding header\u001b[39;00m\n",
            "\u001b[36mFile \u001b[39m\u001b[32mc:\\Users\\Intekmedical\\AppData\\Local\\Programs\\Python\\Python313\\Lib\\site-packages\\pandas\\io\\common.py:289\u001b[39m, in \u001b[36murlopen\u001b[39m\u001b[34m(*args, **kwargs)\u001b[39m\n\u001b[32m    283\u001b[39m \u001b[38;5;250m\u001b[39m\u001b[33;03m\"\"\"\u001b[39;00m\n\u001b[32m    284\u001b[39m \u001b[33;03mLazy-import wrapper for stdlib urlopen, as that imports a big chunk of\u001b[39;00m\n\u001b[32m    285\u001b[39m \u001b[33;03mthe stdlib.\u001b[39;00m\n\u001b[32m    286\u001b[39m \u001b[33;03m\"\"\"\u001b[39;00m\n\u001b[32m    287\u001b[39m \u001b[38;5;28;01mimport\u001b[39;00m\u001b[38;5;250m \u001b[39m\u001b[34;01murllib\u001b[39;00m\u001b[34;01m.\u001b[39;00m\u001b[34;01mrequest\u001b[39;00m\n\u001b[32m--> \u001b[39m\u001b[32m289\u001b[39m \u001b[38;5;28;01mreturn\u001b[39;00m \u001b[43murllib\u001b[49m\u001b[43m.\u001b[49m\u001b[43mrequest\u001b[49m\u001b[43m.\u001b[49m\u001b[43murlopen\u001b[49m\u001b[43m(\u001b[49m\u001b[43m*\u001b[49m\u001b[43margs\u001b[49m\u001b[43m,\u001b[49m\u001b[43m \u001b[49m\u001b[43m*\u001b[49m\u001b[43m*\u001b[49m\u001b[43mkwargs\u001b[49m\u001b[43m)\u001b[49m\n",
            "\u001b[36mFile \u001b[39m\u001b[32mc:\\Users\\Intekmedical\\AppData\\Local\\Programs\\Python\\Python313\\Lib\\urllib\\request.py:189\u001b[39m, in \u001b[36murlopen\u001b[39m\u001b[34m(url, data, timeout, context)\u001b[39m\n\u001b[32m    187\u001b[39m \u001b[38;5;28;01melse\u001b[39;00m:\n\u001b[32m    188\u001b[39m     opener = _opener\n\u001b[32m--> \u001b[39m\u001b[32m189\u001b[39m \u001b[38;5;28;01mreturn\u001b[39;00m \u001b[43mopener\u001b[49m\u001b[43m.\u001b[49m\u001b[43mopen\u001b[49m\u001b[43m(\u001b[49m\u001b[43murl\u001b[49m\u001b[43m,\u001b[49m\u001b[43m \u001b[49m\u001b[43mdata\u001b[49m\u001b[43m,\u001b[49m\u001b[43m \u001b[49m\u001b[43mtimeout\u001b[49m\u001b[43m)\u001b[49m\n",
            "\u001b[36mFile \u001b[39m\u001b[32mc:\\Users\\Intekmedical\\AppData\\Local\\Programs\\Python\\Python313\\Lib\\urllib\\request.py:495\u001b[39m, in \u001b[36mOpenerDirector.open\u001b[39m\u001b[34m(self, fullurl, data, timeout)\u001b[39m\n\u001b[32m    493\u001b[39m \u001b[38;5;28;01mfor\u001b[39;00m processor \u001b[38;5;129;01min\u001b[39;00m \u001b[38;5;28mself\u001b[39m.process_response.get(protocol, []):\n\u001b[32m    494\u001b[39m     meth = \u001b[38;5;28mgetattr\u001b[39m(processor, meth_name)\n\u001b[32m--> \u001b[39m\u001b[32m495\u001b[39m     response = \u001b[43mmeth\u001b[49m\u001b[43m(\u001b[49m\u001b[43mreq\u001b[49m\u001b[43m,\u001b[49m\u001b[43m \u001b[49m\u001b[43mresponse\u001b[49m\u001b[43m)\u001b[49m\n\u001b[32m    497\u001b[39m \u001b[38;5;28;01mreturn\u001b[39;00m response\n",
            "\u001b[36mFile \u001b[39m\u001b[32mc:\\Users\\Intekmedical\\AppData\\Local\\Programs\\Python\\Python313\\Lib\\urllib\\request.py:604\u001b[39m, in \u001b[36mHTTPErrorProcessor.http_response\u001b[39m\u001b[34m(self, request, response)\u001b[39m\n\u001b[32m    601\u001b[39m \u001b[38;5;66;03m# According to RFC 2616, \"2xx\" code indicates that the client's\u001b[39;00m\n\u001b[32m    602\u001b[39m \u001b[38;5;66;03m# request was successfully received, understood, and accepted.\u001b[39;00m\n\u001b[32m    603\u001b[39m \u001b[38;5;28;01mif\u001b[39;00m \u001b[38;5;129;01mnot\u001b[39;00m (\u001b[32m200\u001b[39m <= code < \u001b[32m300\u001b[39m):\n\u001b[32m--> \u001b[39m\u001b[32m604\u001b[39m     response = \u001b[38;5;28;43mself\u001b[39;49m\u001b[43m.\u001b[49m\u001b[43mparent\u001b[49m\u001b[43m.\u001b[49m\u001b[43merror\u001b[49m\u001b[43m(\u001b[49m\n\u001b[32m    605\u001b[39m \u001b[43m        \u001b[49m\u001b[33;43m'\u001b[39;49m\u001b[33;43mhttp\u001b[39;49m\u001b[33;43m'\u001b[39;49m\u001b[43m,\u001b[49m\u001b[43m \u001b[49m\u001b[43mrequest\u001b[49m\u001b[43m,\u001b[49m\u001b[43m \u001b[49m\u001b[43mresponse\u001b[49m\u001b[43m,\u001b[49m\u001b[43m \u001b[49m\u001b[43mcode\u001b[49m\u001b[43m,\u001b[49m\u001b[43m \u001b[49m\u001b[43mmsg\u001b[49m\u001b[43m,\u001b[49m\u001b[43m \u001b[49m\u001b[43mhdrs\u001b[49m\u001b[43m)\u001b[49m\n\u001b[32m    607\u001b[39m \u001b[38;5;28;01mreturn\u001b[39;00m response\n",
            "\u001b[36mFile \u001b[39m\u001b[32mc:\\Users\\Intekmedical\\AppData\\Local\\Programs\\Python\\Python313\\Lib\\urllib\\request.py:533\u001b[39m, in \u001b[36mOpenerDirector.error\u001b[39m\u001b[34m(self, proto, *args)\u001b[39m\n\u001b[32m    531\u001b[39m \u001b[38;5;28;01mif\u001b[39;00m http_err:\n\u001b[32m    532\u001b[39m     args = (\u001b[38;5;28mdict\u001b[39m, \u001b[33m'\u001b[39m\u001b[33mdefault\u001b[39m\u001b[33m'\u001b[39m, \u001b[33m'\u001b[39m\u001b[33mhttp_error_default\u001b[39m\u001b[33m'\u001b[39m) + orig_args\n\u001b[32m--> \u001b[39m\u001b[32m533\u001b[39m     \u001b[38;5;28;01mreturn\u001b[39;00m \u001b[38;5;28;43mself\u001b[39;49m\u001b[43m.\u001b[49m\u001b[43m_call_chain\u001b[49m\u001b[43m(\u001b[49m\u001b[43m*\u001b[49m\u001b[43margs\u001b[49m\u001b[43m)\u001b[49m\n",
            "\u001b[36mFile \u001b[39m\u001b[32mc:\\Users\\Intekmedical\\AppData\\Local\\Programs\\Python\\Python313\\Lib\\urllib\\request.py:466\u001b[39m, in \u001b[36mOpenerDirector._call_chain\u001b[39m\u001b[34m(self, chain, kind, meth_name, *args)\u001b[39m\n\u001b[32m    464\u001b[39m \u001b[38;5;28;01mfor\u001b[39;00m handler \u001b[38;5;129;01min\u001b[39;00m handlers:\n\u001b[32m    465\u001b[39m     func = \u001b[38;5;28mgetattr\u001b[39m(handler, meth_name)\n\u001b[32m--> \u001b[39m\u001b[32m466\u001b[39m     result = \u001b[43mfunc\u001b[49m\u001b[43m(\u001b[49m\u001b[43m*\u001b[49m\u001b[43margs\u001b[49m\u001b[43m)\u001b[49m\n\u001b[32m    467\u001b[39m     \u001b[38;5;28;01mif\u001b[39;00m result \u001b[38;5;129;01mis\u001b[39;00m \u001b[38;5;129;01mnot\u001b[39;00m \u001b[38;5;28;01mNone\u001b[39;00m:\n\u001b[32m    468\u001b[39m         \u001b[38;5;28;01mreturn\u001b[39;00m result\n",
            "\u001b[36mFile \u001b[39m\u001b[32mc:\\Users\\Intekmedical\\AppData\\Local\\Programs\\Python\\Python313\\Lib\\urllib\\request.py:613\u001b[39m, in \u001b[36mHTTPDefaultErrorHandler.http_error_default\u001b[39m\u001b[34m(self, req, fp, code, msg, hdrs)\u001b[39m\n\u001b[32m    612\u001b[39m \u001b[38;5;28;01mdef\u001b[39;00m\u001b[38;5;250m \u001b[39m\u001b[34mhttp_error_default\u001b[39m(\u001b[38;5;28mself\u001b[39m, req, fp, code, msg, hdrs):\n\u001b[32m--> \u001b[39m\u001b[32m613\u001b[39m     \u001b[38;5;28;01mraise\u001b[39;00m HTTPError(req.full_url, code, msg, hdrs, fp)\n",
            "\u001b[31mHTTPError\u001b[39m: HTTP Error 404: Not Found"
          ]
        }
      ],
      "source": [
        "# Función para generar un diagrama de Sankey con las 5 zonas más populares\n",
        "\n",
        "def plot_sankey_top5(df, nombre_dataset, mes_label):\n",
        "    \"\"\"\n",
        "    Genera un diagrama de Sankey con las 5 zonas más populares (combinadas en origen y destino).\n",
        "\n",
        "    Parámetros:\n",
        "    - df: DataFrame con columnas PULocationID, DOLocationID\n",
        "    - nombre_dataset: nombre del dataset (ej. 'Yellow Cabs')\n",
        "    - mes_label: etiqueta del mes (ej. 'Febrero 2025')\n",
        "    \"\"\"\n",
        "    # Cargar nombres de zona\n",
        "    url_lookup = \"https://www.nyc.gov/assets/tlc/downloads/pdf/taxi_zone_lookup.csv\"\n",
        "    taxi_zones = pd.read_csv(url_lookup)\n",
        "    zona_nombres = taxi_zones.set_index(\"LocationID\")[\"Zone\"].to_dict()\n",
        "\n",
        "    # Agrupar trayectos entre zonas\n",
        "    zonas = df.groupby(['PULocationID', 'DOLocationID']).size().reset_index(name='count')\n",
        "\n",
        "    # Identificar las 5 zonas con mayor número total de trayectos (origen + destino)\n",
        "    zonas_frecuentes = pd.concat([\n",
        "        zonas.groupby('PULocationID')['count'].sum(),\n",
        "        zonas.groupby('DOLocationID')['count'].sum()\n",
        "    ]).groupby(level=0).sum().nlargest(5).index.tolist()\n",
        "\n",
        "    # Filtrar solo los trayectos entre esas 5 zonas\n",
        "    zonas_top5 = zonas[\n",
        "        zonas['PULocationID'].isin(zonas_frecuentes) &\n",
        "        zonas['DOLocationID'].isin(zonas_frecuentes)\n",
        "    ]\n",
        "\n",
        "    # Crear etiquetas e índices\n",
        "    etiquetas = [zona_nombres.get(z, str(z)) for z in zonas_frecuentes]\n",
        "    indice_zonas = {zona: i for i, zona in enumerate(zonas_frecuentes)}\n",
        "\n",
        "    # Datos para el Sankey\n",
        "    source = zonas_top5['PULocationID'].map(indice_zonas).tolist()\n",
        "    target = zonas_top5['DOLocationID'].map(indice_zonas).tolist()\n",
        "    value = zonas_top5['count'].tolist()\n",
        "\n",
        "    # Diagrama Sankey\n",
        "    fig = go.Figure(data=[go.Sankey(\n",
        "        node=dict(pad=15, thickness=20, line=dict(color=\"black\", width=0.5), label=etiquetas),\n",
        "        link=dict(source=source, target=target, value=value)\n",
        "    )])\n",
        "\n",
        "    fig.update_layout(title_text=f\"Trayectos entre las 5 zonas más populares – {nombre_dataset} ({mes_label})\",\n",
        "                      font_size=12)\n",
        "    fig.show()\n",
        "    \"\"\"\n",
        "    Genera un diagrama de Sankey con las 5 zonas más populares (combinadas en origen y destino).\n",
        "\n",
        "    Parámetros:\n",
        "    - df: DataFrame con columnas PULocationID, DOLocationID\n",
        "    - nombre_dataset: nombre del dataset (ej. 'Yellow Cabs')\n",
        "    - mes_label: etiqueta del mes (ej. 'Febrero 2025')\n",
        "    \"\"\"\n",
        "    # Agrupamos trayectos entre zonas\n",
        "    zonas = df.groupby(['PULocationID', 'DOLocationID']).size().reset_index(name='count')\n",
        "\n",
        "    # Identificamos las 5 zonas con mayor número total de trayectos (origen + destino)\n",
        "    zonas_frecuentes = pd.concat([\n",
        "        zonas.groupby('PULocationID')['count'].sum(),\n",
        "        zonas.groupby('DOLocationID')['count'].sum()\n",
        "    ]).groupby(level=0).sum().nlargest(5).index.tolist()\n",
        "\n",
        "    # Filtramos solo los trayectos entre esas 5 zonas\n",
        "    zonas_top5 = zonas[\n",
        "        zonas['PULocationID'].isin(zonas_frecuentes) &\n",
        "        zonas['DOLocationID'].isin(zonas_frecuentes)\n",
        "    ]\n",
        "\n",
        "    # Creamos etiquetas e índices\n",
        "    etiquetas = [str(z) for z in zonas_frecuentes]\n",
        "    indice_zonas = {zona: i for i, zona in enumerate(zonas_frecuentes)}\n",
        "\n",
        "    # Datos para el Sankey\n",
        "    source = zonas_top5['PULocationID'].map(indice_zonas).tolist()\n",
        "    target = zonas_top5['DOLocationID'].map(indice_zonas).tolist()\n",
        "    value = zonas_top5['count'].tolist()\n",
        "\n",
        "    # Diagrama Sankey\n",
        "    fig = go.Figure(data=[go.Sankey( # type: ignore\n",
        "        node=dict(pad=15, thickness=20, line=dict(color=\"black\", width=0.5), label=etiquetas),\n",
        "        link=dict(source=source, target=target, value=value)\n",
        "    )])\n",
        "\n",
        "    fig.update_layout(title_text=f\"Trayectos entre las 5 zonas más populares – {nombre_dataset} ({mes_label})\",\n",
        "                      font_size=12)\n",
        "    fig.show()\n",
        "\n",
        "plot_sankey_top5(yellow_df_2025_02, \"Yellow Cabs\", \"Febrero 2025\")\n",
        "plot_sankey_top5(yellow_df_2024_12, \"Yellow Cabs\", \"Diciembre 2024\")\n",
        "plot_sankey_top5(green_df_2025_02, \"Green Cabs\", \"Febrero 2025\")\n",
        "plot_sankey_top5(green_df_2024_12, \"Green Cabs\", \"Diciembre 2024\")\n"
      ]
    }
  ],
  "metadata": {
    "accelerator": "GPU",
    "colab": {
      "gpuType": "T4",
      "provenance": []
    },
    "kernelspec": {
      "display_name": "Python 3",
      "name": "python3"
    },
    "language_info": {
      "codemirror_mode": {
        "name": "ipython",
        "version": 3
      },
      "file_extension": ".py",
      "mimetype": "text/x-python",
      "name": "python",
      "nbconvert_exporter": "python",
      "pygments_lexer": "ipython3",
      "version": "3.13.1"
    }
  },
  "nbformat": 4,
  "nbformat_minor": 0
}
